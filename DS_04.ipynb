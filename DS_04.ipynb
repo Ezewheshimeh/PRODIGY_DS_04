{
 "cells": [
  {
   "cell_type": "code",
   "execution_count": null,
   "id": "e592c9bb-8403-4ac6-89b5-c4a1a383065c",
   "metadata": {},
   "outputs": [],
   "source": [
    "import pandas as pd\n",
    "import matplotlib.pyplot as plt\n",
    "import seaborn as sns\n",
    "from nltk.sentiment.vader import SentimentIntensityAnalyzer\n",
    "import nltk"
   ]
  },
  {
   "cell_type": "code",
   "execution_count": null,
   "id": "188aeb09-16ea-43e4-8c20-b3dd3c0c6e40",
   "metadata": {},
   "outputs": [],
   "source": [
    "nltk.download('vader_lexicon')"
   ]
  },
  {
   "cell_type": "code",
   "execution_count": null,
   "id": "7fa9cec1-4430-4ce0-a710-99e359283cf3",
   "metadata": {},
   "outputs": [],
   "source": [
    "file_path = 'twitter_training.csv'\n",
    "data = pd.read_csv(file_path)"
   ]
  },
  {
   "cell_type": "code",
   "execution_count": null,
   "id": "3299175f-a0fe-4635-8cc2-0e2005128eee",
   "metadata": {},
   "outputs": [],
   "source": [
    "data = data.dropna(subset=['text']\n",
    "data = data[['text']]"
   ]
  },
  {
   "cell_type": "code",
   "execution_count": null,
   "id": "764b4669-07ee-445e-8542-9683e7701a7c",
   "metadata": {},
   "outputs": [],
   "source": [
    "sia = SentimentIntensityAnalyzer()\n",
    "data['sentiment'] = data['text'].apply(lambda x:sia.polarity_scores(x)['compound'])\n",
    "data['sentiment_label'] = data['sentiment'].apply(lambda x: 'Positive' if x > 0.05 else ('Negative' if x < -0.05 else 'Neutral'))"
   ]
  },
  {
   "cell_type": "code",
   "execution_count": null,
   "id": "c416ff41-13ea-46b6-80a6-09500bb765c2",
   "metadata": {},
   "outputs": [],
   "source": [
    "sns.countplot(data=data, x='sentiment_label', palette='viridis')\n",
    "plt.title('Sentiment Analysis of Tweets')\n",
    "plt.xlabel('Sentiment')\n",
    "plt.ylabel('Count')\n",
    "plt.show()"
   ]
  },
  {
   "cell_type": "code",
   "execution_count": null,
   "id": "a96ee5dc-9edd-481c-9a80-a01ade5b182c",
   "metadata": {},
   "outputs": [],
   "source": [
    "data['date'] = pd.to_datetime(data['date'])  # Replace 'date' with your date column\n",
    "daily_sentiment = data.groupby(data['date'].dt.date)['sentiment'].mean()\n",
    "daily_sentiment.plot(kind='line', figsize=(10, 6))\n",
    "plt.title('Average Sentiment Over Time')\n",
    "plt.xlabel('Date')\n",
    "plt.ylabel('Average Sentiment Score')\n",
    "plt.show()"
   ]
  },
  {
   "cell_type": "code",
   "execution_count": null,
   "id": "71b2a612-cc3d-42e9-949a-4c3e1f20fa4d",
   "metadata": {},
   "outputs": [],
   "source": []
  },
  {
   "cell_type": "code",
   "execution_count": null,
   "id": "386037a4-1fbc-413a-92ed-90a43361328a",
   "metadata": {},
   "outputs": [],
   "source": []
  }
 ],
 "metadata": {
  "kernelspec": {
   "display_name": "Python 3 (ipykernel)",
   "language": "python",
   "name": "python3"
  },
  "language_info": {
   "codemirror_mode": {
    "name": "ipython",
    "version": 3
   },
   "file_extension": ".py",
   "mimetype": "text/x-python",
   "name": "python",
   "nbconvert_exporter": "python",
   "pygments_lexer": "ipython3",
   "version": "3.9.13"
  }
 },
 "nbformat": 4,
 "nbformat_minor": 5
}
